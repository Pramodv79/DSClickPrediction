{
 "cells": [
  {
   "cell_type": "markdown",
   "metadata": {},
   "source": [
    "**Perform Data Exploration **\n",
    "For Each Dataset\n",
    "1) See head, tail, shape and describe to get basic info on the data set\n",
    "2) Identify column types and range of values columns can take\n",
    "3) Identify if any values are missing or need manipulations"
   ]
  },
  {
   "cell_type": "code",
   "execution_count": 3,
   "metadata": {
    "collapsed": true
   },
   "outputs": [],
   "source": [
    "import pandas as pd\n",
    "import numpy as np\n",
    "import os\n",
    "import gc # We're gonna be clearing memory a lot\n",
    "import matplotlib.pyplot as plt\n",
    "import seaborn as sns\n",
    "%matplotlib inline\n",
    "\n",
    "p = sns.color_palette()\n"
   ]
  },
  {
   "cell_type": "code",
   "execution_count": 4,
   "metadata": {},
   "outputs": [
    {
     "name": "stdout",
     "output_type": "stream",
     "text": [
      "/Users/vapramod/Documents/PersonalWork/GA_DataScienceWork/DSClickPrediction_DATA/data/clicks_train.csv.zip\n"
     ]
    }
   ],
   "source": [
    "#Change this to location where you have stored the data\n",
    "path = '/Users/vapramod/Documents/PersonalWork/GA_DataScienceWork/DSClickPrediction_DATA/data/'\n",
    "print( path + 'clicks_train.csv.zip')"
   ]
  },
  {
   "cell_type": "markdown",
   "metadata": {},
   "source": [
    "**Understand clicks_train**"
   ]
  },
  {
   "cell_type": "code",
   "execution_count": 51,
   "metadata": {
    "collapsed": true
   },
   "outputs": [],
   "source": [
    "#Understanding clicks_train data set\n",
    "clicks_train = pd.read_csv(path + 'clicks_train.csv.zip', compression='zip', header=0, sep=',', quotechar='\"')"
   ]
  },
  {
   "cell_type": "code",
   "execution_count": 52,
   "metadata": {},
   "outputs": [
    {
     "name": "stdout",
     "output_type": "stream",
     "text": [
      "   display_id   ad_id  clicked\n",
      "0           1   42337        0\n",
      "1           1  139684        0\n",
      "2           1  144739        1\n",
      "3           1  156824        0\n",
      "4           1  279295        0\n",
      "          display_id   ad_id  clicked\n",
      "87141726    16874592  186600        0\n",
      "87141727    16874593  151498        1\n",
      "87141728    16874593  282350        0\n",
      "87141729    16874593  521828        0\n",
      "87141730    16874593  522693        0\n",
      "(87141731, 3)\n",
      "         display_id         ad_id       clicked\n",
      "count  8.714173e+07  8.714173e+07  8.714173e+07\n",
      "mean   8.443768e+06  1.903964e+05  1.936454e-01\n",
      "std    4.872763e+06  1.250345e+05  3.951542e-01\n",
      "min    1.000000e+00  1.000000e+00  0.000000e+00\n",
      "25%    4.216023e+06  9.763400e+04  0.000000e+00\n",
      "50%    8.464243e+06  1.683860e+05  0.000000e+00\n",
      "75%    1.265967e+07  2.529310e+05  0.000000e+00\n",
      "max    1.687459e+07  5.480190e+05  1.000000e+00\n",
      "display_id    int64\n",
      "ad_id         int64\n",
      "clicked       int64\n",
      "dtype: object\n"
     ]
    }
   ],
   "source": [
    "print( clicks_train.head())\n",
    "print(clicks_train.tail())\n",
    "print(clicks_train.shape)\n",
    "print(clicks_train.describe())\n",
    "print( clicks_train.dtypes)"
   ]
  },
  {
   "cell_type": "code",
   "execution_count": 53,
   "metadata": {},
   "outputs": [
    {
     "name": "stdout",
     "output_type": "stream",
     "text": [
      "How many are null\n",
      "display_id    0\n",
      "ad_id         0\n",
      "clicked       0\n",
      "dtype: int64\n",
      "\n",
      "Check Cardinality\n",
      "display_id:\t 16874593\n",
      "ad_id :\t\t 478950\n",
      "clicked:\t 2\n"
     ]
    }
   ],
   "source": [
    "#Find how many null values for each column\n",
    "print(\"How many are null\")\n",
    "print(clicks_train.isnull().sum())\n",
    "print(\"\\nCheck Cardinality\")\n",
    "print( \"display_id:\\t\", len(clicks_train.display_id.unique()))\n",
    "print( \"ad_id :\\t\\t\",len(clicks_train.ad_id .unique()))\n",
    "print( \"clicked:\\t\",len(clicks_train.clicked.unique()))"
   ]
  },
  {
   "cell_type": "code",
   "execution_count": 50,
   "metadata": {
    "collapsed": true
   },
   "outputs": [],
   "source": [
    "sizes_train = clicks_train.groupby('display_id')[ 'ad_id'].count().value_counts()"
   ]
  },
  {
   "cell_type": "code",
   "execution_count": 51,
   "metadata": {},
   "outputs": [
    {
     "name": "stdout",
     "output_type": "stream",
     "text": [
      "(11,)\n",
      "4     5421764\n",
      "6     5005527\n",
      "3     1696425\n",
      "5     1438599\n",
      "8     1121697\n",
      "9     1044047\n",
      "2      802498\n",
      "10     230262\n",
      "7      100677\n",
      "12      12822\n",
      "11        275\n",
      "Name: ad_id, dtype: int64\n",
      "<class 'pandas.core.series.Series'>\n"
     ]
    }
   ],
   "source": [
    "print(sizes_train.shape)\n",
    "print(sizes_train)\n",
    "print(type(sizes_train))"
   ]
  },
  {
   "cell_type": "code",
   "execution_count": 52,
   "metadata": {},
   "outputs": [
    {
     "data": {
      "text/plain": [
       "4     0.321297\n",
       "6     0.296631\n",
       "3     0.100531\n",
       "5     0.085252\n",
       "8     0.066473\n",
       "9     0.061871\n",
       "2     0.047557\n",
       "10    0.013645\n",
       "7     0.005966\n",
       "12    0.000760\n",
       "11    0.000016\n",
       "Name: ad_id, dtype: float64"
      ]
     },
     "execution_count": 52,
     "metadata": {},
     "output_type": "execute_result"
    }
   ],
   "source": [
    "#Get the percentage\n",
    "sizes_train = sizes_train / np.sum(sizes_train)\n",
    "sizes_train"
   ]
  },
  {
   "cell_type": "code",
   "execution_count": 53,
   "metadata": {},
   "outputs": [
    {
     "data": {
      "text/plain": [
       "<matplotlib.text.Text at 0x11cabc748>"
      ]
     },
     "execution_count": 53,
     "metadata": {},
     "output_type": "execute_result"
    },
    {
     "data": {
      "image/png": "[encoded data removed]",
      "text/plain": [
       "<matplotlib.figure.Figure at 0x11c9c1438>"
      ]
     },
     "metadata": {},
     "output_type": "display_data"
    }
   ],
   "source": [
    "plt.figure(figsize=(12,4))\n",
    "sns.barplot( sizes_train.index,sizes_train.values, alpha=0.8, color=p[0], label='train')\n",
    "plt.legend()\n",
    "plt.xlabel('Number of Ads in display', fontsize=12)\n",
    "plt.ylabel('Proportion of set', fontsize=12)"
   ]
  },
  {
   "cell_type": "markdown",
   "metadata": {},
   "source": [
    "**Summary of clicks_train dataset**\n",
    "1) about 8.7e+7 rows for training. \n",
    "2) display_id ranges from 1 - 1.6e7 \n",
    "3) ad_id ranges rom 1 - 5.4e+5\n",
    "4) clicks is 0 or 1 so binary"
   ]
  },
  {
   "cell_type": "code",
   "execution_count": 39,
   "metadata": {
    "collapsed": true
   },
   "outputs": [],
   "source": [
    "clicks_test = pd.read_csv(path + 'clicks_test.csv.zip', compression='zip', header=0, sep=',', quotechar='\"')"
   ]
  },
  {
   "cell_type": "code",
   "execution_count": 40,
   "metadata": {},
   "outputs": [
    {
     "name": "stdout",
     "output_type": "stream",
     "text": [
      "   display_id   ad_id\n",
      "0    16874594   66758\n",
      "1    16874594  150083\n",
      "2    16874594  162754\n",
      "3    16874594  170392\n",
      "4    16874594  172888\n",
      "          display_id   ad_id\n",
      "32225157    23120125  254698\n",
      "32225158    23120126   57097\n",
      "32225159    23120126  145293\n",
      "32225160    23120126  201649\n",
      "32225161    23120126  292363\n",
      "(32225162, 2)\n",
      "         display_id         ad_id\n",
      "count  3.222516e+07  3.222516e+07\n",
      "mean   1.999773e+07  2.111462e+05\n",
      "std    1.802625e+06  1.466466e+05\n",
      "min    1.687459e+07  1.000000e+00\n",
      "25%    1.843929e+07  1.042080e+05\n",
      "50%    1.999674e+07  1.752140e+05\n",
      "75%    2.155796e+07  2.858390e+05\n",
      "max    2.312013e+07  5.670730e+05\n",
      "display_id    int64\n",
      "ad_id         int64\n",
      "dtype: object\n"
     ]
    },
    {
     "data": {
      "text/plain": [
       "display_id    0\n",
       "ad_id         0\n",
       "dtype: int64"
      ]
     },
     "execution_count": 40,
     "metadata": {},
     "output_type": "execute_result"
    }
   ],
   "source": [
    "print( clicks_test.head())\n",
    "print(clicks_test.tail())\n",
    "print(clicks_test.shape)\n",
    "print(clicks_test.describe())\n",
    "print( clicks_test.dtypes)\n",
    "#Find how many null values for each column\n",
    "clicks_test.isnull().sum()"
   ]
  },
  {
   "cell_type": "code",
   "execution_count": 41,
   "metadata": {
    "collapsed": true
   },
   "outputs": [],
   "source": [
    "sizes_test = clicks_test.groupby('display_id')[ 'ad_id'].count().value_counts()\n"
   ]
  },
  {
   "cell_type": "code",
   "execution_count": 42,
   "metadata": {
    "collapsed": true
   },
   "outputs": [],
   "source": [
    "sizes_test = sizes_test / np.sum(sizes_test)"
   ]
  },
  {
   "cell_type": "code",
   "execution_count": 48,
   "metadata": {},
   "outputs": [
    {
     "data": {
      "text/plain": [
       "<matplotlib.text.Text at 0x11c81f0b8>"
      ]
     },
     "execution_count": 48,
     "metadata": {},
     "output_type": "execute_result"
    },
    {
     "data": {
      "image/png": "[encoded data removed]",
      "text/plain": [
       "<matplotlib.figure.Figure at 0x11c7f3b38>"
      ]
     },
     "metadata": {},
     "output_type": "display_data"
    }
   ],
   "source": [
    "plt.figure(figsize=(12,4))\n",
    "sns.barplot( sizes_train.index,sizes_train.values, alpha=0.8, color=p[1], label='test')\n",
    "plt.legend()\n",
    "plt.xlabel('Number of Ads in display', fontsize=12)\n",
    "plt.ylabel('Proportion of set', fontsize=12)"
   ]
  },
  {
   "cell_type": "code",
   "execution_count": 54,
   "metadata": {},
   "outputs": [
    {
     "data": {
      "text/plain": [
       "<matplotlib.text.Text at 0x11ddcad68>"
      ]
     },
     "execution_count": 54,
     "metadata": {},
     "output_type": "execute_result"
    },
    {
     "data": {
      "image/png": "[encoded data removed]",
      "text/plain": [
       "<matplotlib.figure.Figure at 0x11dd33d68>"
      ]
     },
     "metadata": {},
     "output_type": "display_data"
    }
   ],
   "source": [
    "#Lets plot train and test together\n",
    "plt.figure(figsize=(12,4))\n",
    "sns.barplot(sizes_train.index, sizes_train.values, alpha=0.8, color=p[0], label='train')\n",
    "sns.barplot(sizes_test.index, sizes_test.values, alpha=0.6, color=p[1], label='test')\n",
    "plt.legend()\n",
    "plt.xlabel('Number of Ads in display', fontsize=12)\n",
    "plt.ylabel('Proportion of set', fontsize=12)"
   ]
  },
  {
   "cell_type": "markdown",
   "metadata": {},
   "source": [
    "This means that the data is well split between train and test atleast in terms of number of ads for display ids"
   ]
  },
  {
   "cell_type": "code",
   "execution_count": 57,
   "metadata": {},
   "outputs": [
    {
     "data": {
      "text/plain": [
       "478950"
      ]
     },
     "execution_count": 57,
     "metadata": {},
     "output_type": "execute_result"
    }
   ],
   "source": [
    "#Question: Check Ad usage in training set\n",
    "AdUsed = clicks_train.groupby('ad_id')['ad_id'].count()\n"
   ]
  },
  {
   "cell_type": "code",
   "execution_count": 72,
   "metadata": {},
   "outputs": [
    {
     "name": "stdout",
     "output_type": "stream",
     "text": [
      "478950\n",
      "ad_id\n",
      "1        2\n",
      "2       22\n",
      "3      161\n",
      "4       32\n",
      "5        1\n",
      "6        1\n",
      "7     3406\n",
      "8       28\n",
      "9        3\n",
      "10      81\n",
      "Name: ad_id, dtype: int64\n",
      "count    478950.000000\n",
      "mean        181.943274\n",
      "std        1910.689568\n",
      "min           1.000000\n",
      "25%           2.000000\n",
      "50%           5.000000\n",
      "75%          19.000000\n",
      "max      211824.000000\n",
      "Name: ad_id, dtype: float64\n"
     ]
    }
   ],
   "source": [
    "print(len(AdUsed))\n",
    "print(AdUsed.head(10))\n",
    "print(AdUsed.describe())\n",
    "#print(AdUsed.idxmax)"
   ]
  },
  {
   "cell_type": "code",
   "execution_count": 93,
   "metadata": {},
   "outputs": [
    {
     "data": {
      "image/png": "[encoded data removed]",
      "text/plain": [
       "<matplotlib.figure.Figure at 0x11b985940>"
      ]
     },
     "metadata": {},
     "output_type": "display_data"
    }
   ],
   "source": [
    "plt.figure(figsize=(12,4))\n",
    "plt.hist(AdUsed, bins=50, log=True)\n",
    "plt.xlabel('Number of times ad appeared', fontsize=12)\n",
    "plt.ylabel('log(Count of ad_ids)', fontsize=12)\n",
    "plt.show()"
   ]
  },
  {
   "cell_type": "code",
   "execution_count": 89,
   "metadata": {},
   "outputs": [
    {
     "name": "stdout",
     "output_type": "stream",
     "text": [
      "Ads that appear less than 2 times: 22.69%\n",
      "Ads that appear less than 10 times: 61.74%\n",
      "Ads that appear less than 50 times: 86.93%\n",
      "Ads that appear less than 100 times: 91.04%\n",
      "Ads that appear less than 1000 times: 97.45%\n",
      "Ads that appear less than 10000 times: 99.64%\n",
      "Ads that appear less than 100000 times: 99.99%\n"
     ]
    }
   ],
   "source": [
    "for i in [2, 10, 50, 100, 1000, 10000, 100000]:\n",
    "    print('Ads that appear less than {} times: {}%'.format(i, round((AdUsed < i).mean()*100, 2)))"
   ]
  },
  {
   "cell_type": "code",
   "execution_count": 92,
   "metadata": {},
   "outputs": [
    {
     "name": "stdout",
     "output_type": "stream",
     "text": [
      "ad_id\n",
      "123742    202099\n",
      "173005    211824\n",
      "180923    203159\n",
      "Name: ad_id, dtype: int64\n",
      "Ads that appear greater than 200000 times: 0.0%\n"
     ]
    }
   ],
   "source": [
    "#To understand how mean provides %\n",
    "i=200000\n",
    "print(AdUsed[AdUsed > i])\n",
    "print('Ads that appear greater than {} times: {}%'.format(i, round((AdUsed > i).mean()*100, 2)))"
   ]
  },
  {
   "cell_type": "code",
   "execution_count": 94,
   "metadata": {},
   "outputs": [
    {
     "name": "stdout",
     "output_type": "stream",
     "text": [
      "Proportion of test ads in test set that are in training: 82.87%\n"
     ]
    }
   ],
   "source": [
    "ad_prop = len(set(clicks_test.ad_id.unique()).intersection(clicks_train.ad_id.unique())) / len(clicks_test.ad_id.unique())\n",
    "print('Proportion of test ads in test set that are in training: {}%'.format(round(ad_prop * 100, 2)))"
   ]
  },
  {
   "cell_type": "code",
   "execution_count": 1,
   "metadata": {
    "collapsed": true
   },
   "outputs": [
    {
     "ename": "NameError",
     "evalue": "name 'gc' is not defined",
     "output_type": "error",
     "traceback": [
      "\u001b[0;31m---------------------------------------------------------------------------\u001b[0m",
      "\u001b[0;31mNameError\u001b[0m                                 Traceback (most recent call last)",
      "\u001b[0;32m<ipython-input-1-5f201367bdd3>\u001b[0m in \u001b[0;36m<module>\u001b[0;34m()\u001b[0m\n\u001b[0;32m----> 1\u001b[0;31m \u001b[0;32mtry\u001b[0m\u001b[0;34m:\u001b[0m\u001b[0;32mdel\u001b[0m \u001b[0mclicks_train\u001b[0m\u001b[0;34m,\u001b[0m\u001b[0mclicks_test\u001b[0m\u001b[0;34m\u001b[0m\u001b[0m\n\u001b[0m\u001b[1;32m      2\u001b[0m \u001b[0;32mexcept\u001b[0m\u001b[0;34m:\u001b[0m\u001b[0;32mpass\u001b[0m\u001b[0;34m;\u001b[0m\u001b[0mgc\u001b[0m\u001b[0;34m.\u001b[0m\u001b[0mcollect\u001b[0m\u001b[0;34m(\u001b[0m\u001b[0;34m)\u001b[0m\u001b[0;34m\u001b[0m\u001b[0m\n",
      "\u001b[0;31mNameError\u001b[0m: name 'clicks_train' is not defined",
      "\nDuring handling of the above exception, another exception occurred:\n",
      "\u001b[0;31mNameError\u001b[0m                                 Traceback (most recent call last)",
      "\u001b[0;32m<ipython-input-1-5f201367bdd3>\u001b[0m in \u001b[0;36m<module>\u001b[0;34m()\u001b[0m\n\u001b[1;32m      1\u001b[0m \u001b[0;32mtry\u001b[0m\u001b[0;34m:\u001b[0m\u001b[0;32mdel\u001b[0m \u001b[0mclicks_train\u001b[0m\u001b[0;34m,\u001b[0m\u001b[0mclicks_test\u001b[0m\u001b[0;34m\u001b[0m\u001b[0m\n\u001b[0;32m----> 2\u001b[0;31m \u001b[0;32mexcept\u001b[0m\u001b[0;34m:\u001b[0m\u001b[0;32mpass\u001b[0m\u001b[0;34m;\u001b[0m\u001b[0mgc\u001b[0m\u001b[0;34m.\u001b[0m\u001b[0mcollect\u001b[0m\u001b[0;34m(\u001b[0m\u001b[0;34m)\u001b[0m\u001b[0;34m\u001b[0m\u001b[0m\n\u001b[0m",
      "\u001b[0;31mNameError\u001b[0m: name 'gc' is not defined"
     ]
    }
   ],
   "source": [
    "try:del clicks_train,clicks_test \n",
    "except:pass;gc.collect()"
   ]
  },
  {
   "cell_type": "markdown",
   "metadata": {},
   "source": [
    "**Summary of clicks_train dataset**\n",
    "1) about  3.2e+7 rows for Testing. \n",
    "2) display_id ranges from 1.6e+7 - 2.3e7 \n",
    "3) ad_id ranges rom 1 - 5.6e+5\n",
    "4) No missing values"
   ]
  },
  {
   "cell_type": "code",
   "execution_count": 17,
   "metadata": {},
   "outputs": [
    {
     "name": "stderr",
     "output_type": "stream",
     "text": [
      "/Applications/anaconda/lib/python3.6/site-packages/IPython/core/interactiveshell.py:2717: DtypeWarning: Columns (4) have mixed types. Specify dtype option on import or set low_memory=False.\n",
      "  interactivity=interactivity, compiler=compiler, result=result)\n"
     ]
    }
   ],
   "source": [
    "events = pd.read_csv(path + 'events.csv.zip', compression='zip', header=0, sep=',', quotechar='\"')"
   ]
  },
  {
   "cell_type": "code",
   "execution_count": 18,
   "metadata": {},
   "outputs": [
    {
     "name": "stdout",
     "output_type": "stream",
     "text": [
      "   display_id            uuid  document_id  timestamp platform geo_location\n",
      "0           1  cb8c55702adb93       379743         61        3    US>SC>519\n",
      "1           2  79a85fa78311b9      1794259         81        2    US>CA>807\n",
      "2           3  822932ce3d8757      1179111        182        2    US>MI>505\n",
      "3           4  85281d0a49f7ac      1777797        234        2    US>WV>564\n",
      "4           5  8d0daef4bf5b56       252458        338        2        SG>00\n",
      "          display_id            uuid  document_id   timestamp platform  \\\n",
      "23120121    23120122  3b42aaa4aa8993      1827718  1295999574        1   \n",
      "23120122    23120123  7efccdc2d58fd1      2984543  1295999591        2   \n",
      "23120123    23120124  11f9ac8cee26f2       751048  1295999657        2   \n",
      "23120124    23120125  6bbdc5756789cc       744496  1295999771        2   \n",
      "23120125    23120126  b545c100626cba      2357447  1295999805        2   \n",
      "\n",
      "         geo_location  \n",
      "23120121    US>FL>571  \n",
      "23120122    US>TX>623  \n",
      "23120123    US>GA>524  \n",
      "23120124    US>MI>505  \n",
      "23120125    US>SD>764  \n",
      "(23120126, 6)\n",
      "         display_id   document_id     timestamp\n",
      "count  2.312013e+07  2.312013e+07  2.312013e+07\n",
      "mean   1.156006e+07  1.732563e+06  6.540050e+08\n",
      "std    6.674206e+06  7.939175e+05  3.770036e+08\n",
      "min    1.000000e+00  2.000000e+00  6.100000e+01\n",
      "25%    5.780032e+06  1.163119e+06  3.178619e+08\n",
      "50%    1.156006e+07  1.852756e+06  6.603422e+08\n",
      "75%    1.734009e+07  2.370846e+06  9.783219e+08\n",
      "max    2.312013e+07  2.999321e+06  1.296000e+09\n",
      "display_id       int64\n",
      "uuid            object\n",
      "document_id      int64\n",
      "timestamp        int64\n",
      "platform        object\n",
      "geo_location    object\n",
      "dtype: object\n"
     ]
    }
   ],
   "source": [
    "print( events.head())\n",
    "print( events.tail())\n",
    "print( events.shape)\n",
    "print( events.describe())\n",
    "print( events.dtypes)"
   ]
  },
  {
   "cell_type": "code",
   "execution_count": 50,
   "metadata": {},
   "outputs": [
    {
     "name": "stdout",
     "output_type": "stream",
     "text": [
      "How many are null\n",
      "display_id        0\n",
      "uuid              0\n",
      "document_id       0\n",
      "timestamp         0\n",
      "platform          0\n",
      "geo_location    340\n",
      "dtype: int64\n",
      "\n",
      "Check Cardinality\n",
      "platform:\t 4\n",
      "display_id:\t 23120126\n",
      "document_id:\t 894060\n",
      "uuid:\t 19794967\n",
      "geo_location:\t 2989\n",
      "timestamp:\t 22896622\n"
     ]
    }
   ],
   "source": [
    "#Find how many null values for each column\n",
    "print(\"How many are null\")\n",
    "print(events.isnull().sum())\n",
    "print(\"\\nCheck Cardinality\")\n",
    "print( \"platform:\\t\", len(events.platform.unique()))\n",
    "print( \"display_id:\\t\",len(events.display_id.unique()))\n",
    "print( \"document_id:\\t\",len(events.document_id.unique()))\n",
    "print( \"uuid:\\t\\t\", len(events.uuid.unique()))\n",
    "print( \"geo_location:\\t\",len(events.geo_location.unique()))\n",
    "print( \"timestamp:\\t\",len(events.timestamp.unique()))"
   ]
  },
  {
   "cell_type": "code",
   "execution_count": 20,
   "metadata": {
    "collapsed": true
   },
   "outputs": [],
   "source": [
    "events.platform = events.platform.astype(str)\n",
    "platform_counts = events.platform.value_counts()"
   ]
  },
  {
   "cell_type": "code",
   "execution_count": 31,
   "metadata": {},
   "outputs": [
    {
     "data": {
      "text/plain": [
       "<matplotlib.text.Text at 0x1d04cba58>"
      ]
     },
     "execution_count": 31,
     "metadata": {},
     "output_type": "execute_result"
    },
    {
     "data": {
      "image/png": "[encoded data removed]",
      "text/plain": [
       "<matplotlib.figure.Figure at 0x1d0431550>"
      ]
     },
     "metadata": {},
     "output_type": "display_data"
    }
   ],
   "source": [
    "#plot\n",
    "plt.figure( figsize= (12,4))\n",
    "sns.barplot( platform_counts.index, platform_counts.values, alpha=0.8, color=p[2])\n",
    "plt.xlabel('Platform', fontsize=12)\n",
    "plt.ylabel(\"Occurance\", fontsize=12)"
   ]
  },
  {
   "cell_type": "code",
   "execution_count": null,
   "metadata": {
    "collapsed": true
   },
   "outputs": [],
   "source": []
  },
  {
   "cell_type": "code",
   "execution_count": null,
   "metadata": {
    "collapsed": true
   },
   "outputs": [],
   "source": [
    "#Clear up Memory\n",
    "try:del events\n",
    "except:pass;gc.collect()"
   ]
  },
  {
   "cell_type": "markdown",
   "metadata": {},
   "source": [
    "**events data set analysis**\n",
    "1) Dataset has about 2.3e+7 rows\n",
    "2) display_id, document_id are int values and timestamp is an epoch time from the start\n",
    "3) uuid & geolocation is a alphanumeric\n",
    "4) platform is alphanumeric though it should be categorical\n",
    "5) platform is a special column where values are sometimes character or \\N. We probably need to decide what to do with the missing columns and convert column values into standard categorical values\n",
    "events.platform.unique()\n",
    "array([3, 2, 1, '2', '1', '3', '\\\\N'], dtype=object)\n",
    "events.groupby('platform').count()['display_id']\n",
    "platform\n",
    "1      8747280\n",
    "2     10684579\n",
    "3      3032907\n",
    "1       279988\n",
    "2       291699\n",
    "3        83668\n",
    "\\N           5\n",
    "6) Here data cleaning would be required\n",
    " a) Convert strings into int\n",
    " b) \\N to 0\n",
    " c) convert all 3 into categorical values ( hot encoding ) [ todo]\n",
    " \n",
    "7) geolocation has missing values [ todo ]"
   ]
  },
  {
   "cell_type": "code",
   "execution_count": 28,
   "metadata": {},
   "outputs": [],
   "source": [
    "documents_meta = pd.read_csv(path + 'documents_meta.csv.zip', compression='zip', header=0, sep=',', quotechar='\"')"
   ]
  },
  {
   "cell_type": "code",
   "execution_count": 29,
   "metadata": {},
   "outputs": [
    {
     "name": "stdout",
     "output_type": "stream",
     "text": [
      "   document_id  source_id  publisher_id         publish_time\n",
      "0      1595802        1.0         603.0  2016-06-05 00:00:00\n",
      "1      1524246        1.0         603.0  2016-05-26 11:00:00\n",
      "2      1617787        1.0         603.0  2016-05-27 00:00:00\n",
      "3      1615583        1.0         603.0  2016-06-07 00:00:00\n",
      "4      1615460        1.0         603.0  2016-06-20 00:00:00\n",
      "         document_id  source_id  publisher_id publish_time\n",
      "2999329      1112778        NaN           NaN          NaN\n",
      "2999330      1108348        NaN           NaN          NaN\n",
      "2999331      1121434        NaN           NaN          NaN\n",
      "2999332      1092197        NaN           NaN          NaN\n",
      "2999333      1107648        NaN           NaN          NaN\n",
      "(2999334, 4)\n",
      "        document_id     source_id  publisher_id\n",
      "count  2.999334e+06  2.996816e+06  2.935310e+06\n",
      "mean   1.499668e+06  3.670058e+03  5.041475e+02\n",
      "std    8.658333e+05  3.462633e+03  3.477791e+02\n",
      "min    1.000000e+00  1.000000e+00  2.000000e+00\n",
      "25%    7.498342e+05  8.210000e+02  2.020000e+02\n",
      "50%    1.499668e+06  2.609000e+03  4.400000e+02\n",
      "75%    2.249501e+06  5.814000e+03  8.270000e+02\n",
      "max    2.999334e+06  1.440400e+04  1.263000e+03\n",
      "document_id       int64\n",
      "source_id       float64\n",
      "publisher_id    float64\n",
      "publish_time     object\n",
      "dtype: object\n"
     ]
    }
   ],
   "source": [
    "print( documents_meta.head())\n",
    "print( documents_meta.tail())\n",
    "print( documents_meta.shape)\n",
    "print( documents_meta.describe())\n",
    "print( documents_meta.dtypes)"
   ]
  },
  {
   "cell_type": "code",
   "execution_count": 30,
   "metadata": {},
   "outputs": [
    {
     "name": "stdout",
     "output_type": "stream",
     "text": [
      "How many are null\n",
      "document_id           0\n",
      "source_id          2518\n",
      "publisher_id      64024\n",
      "publish_time    1011118\n",
      "dtype: int64\n",
      "\n",
      "Check Cardinality\n",
      "document_id:\t 2999334\n",
      "source_id:\t 14395\n",
      "publisher_id:\t 1260\n",
      "publish_time:\t 49914\n"
     ]
    }
   ],
   "source": [
    "#Find how many null values for each column\n",
    "print(\"How many are null\")\n",
    "print( documents_meta.isnull().sum() )\n",
    "print(\"\\nCheck Cardinality\")\n",
    "print( \"document_id:\\t\", len(documents_meta.document_id.unique()))\n",
    "print( \"source_id:\\t\",len(documents_meta.source_id.unique()))\n",
    "print( \"publisher_id:\\t\",len(documents_meta.publisher_id.unique()))\n",
    "print( \"publish_time:\\t\",len(documents_meta.publish_time.unique()))"
   ]
  },
  {
   "cell_type": "markdown",
   "metadata": {},
   "source": [
    "**Summary of document_meta dataset**\n",
    "1) Shape of the data set if (2999334, 4)\n",
    "2) Consists of 4 columns ( document_id, source_id, publisher_id and publish_time)\n",
    "3) data set has nulls once we load in the data set we need to think how to handle nulls [ TODO ]\n",
    "    \n",
    "    document_id           0\n",
    "    source_id          2518\n",
    "    publisher_id      64024\n",
    "    publish_time    1011118\n",
    "    dtype: int64\n",
    "Q: Not sure why source_id and published_id are showing up as float64 ? Is there a way to peakthe raw file ?"
   ]
  },
  {
   "cell_type": "code",
   "execution_count": 32,
   "metadata": {
    "collapsed": true
   },
   "outputs": [],
   "source": [
    "documents_topics = pd.read_csv(path + 'documents_topics.csv.zip', compression='zip', header=0, sep=',', quotechar='\"')"
   ]
  },
  {
   "cell_type": "code",
   "execution_count": 33,
   "metadata": {},
   "outputs": [
    {
     "name": "stdout",
     "output_type": "stream",
     "text": [
      "   document_id  topic_id  confidence_level\n",
      "0      1595802       140          0.073113\n",
      "1      1595802        16          0.059416\n",
      "2      1595802       143          0.045421\n",
      "3      1595802       170          0.038867\n",
      "4      1524246       113          0.196450\n",
      "          document_id  topic_id  confidence_level\n",
      "11325955      1080024       221          0.010094\n",
      "11325956      1125054        29          0.040381\n",
      "11325957      1080122        29          0.038200\n",
      "11325958      1291726        68          0.069515\n",
      "11325959      1855422        99          0.076847\n",
      "(11325960, 3)\n",
      "        document_id      topic_id  confidence_level\n",
      "count  1.132596e+07  1.132596e+07      1.132596e+07\n",
      "mean   1.078615e+06  1.448378e+02      4.888786e-02\n",
      "std    6.938215e+05  8.741227e+01      6.851409e-02\n",
      "min    1.000000e+00  0.000000e+00      8.000000e-03\n",
      "25%    4.988220e+05  6.600000e+01      1.317609e-02\n",
      "50%    1.028890e+06  1.450000e+02      2.632861e-02\n",
      "75%    1.549140e+06  2.190000e+02      5.284751e-02\n",
      "max    2.999333e+06  2.990000e+02      9.032314e-01\n",
      "document_id           int64\n",
      "topic_id              int64\n",
      "confidence_level    float64\n",
      "dtype: object\n"
     ]
    }
   ],
   "source": [
    "print( documents_topics.head())\n",
    "print( documents_topics.tail())\n",
    "print( documents_topics.shape)\n",
    "print( documents_topics.describe())\n",
    "print( documents_topics.dtypes)"
   ]
  },
  {
   "cell_type": "code",
   "execution_count": 36,
   "metadata": {},
   "outputs": [
    {
     "name": "stdout",
     "output_type": "stream",
     "text": [
      "How many are null\n",
      "document_id         0\n",
      "topic_id            0\n",
      "confidence_level    0\n",
      "dtype: int64\n",
      "\n",
      "Check Cardinality\n",
      "document_id:\t\t 2495423\n",
      "topic_id:\t\t 300\n",
      "confidence_level:\t 10124758\n"
     ]
    }
   ],
   "source": [
    "#Find how many null values for each column\n",
    "print(\"How many are null\")\n",
    "print(documents_topics.isnull().sum())\n",
    "print(\"\\nCheck Cardinality\")\n",
    "print( \"document_id:\\t\\t\", len(documents_topics.document_id.unique()))\n",
    "print( \"topic_id:\\t\\t\",len(documents_topics.topic_id.unique()))\n",
    "print( \"confidence_level:\\t\",len(documents_topics.confidence_level.unique()))"
   ]
  },
  {
   "cell_type": "markdown",
   "metadata": {},
   "source": [
    "**document_meta data set**\n",
    "1) Simple table with int, int and float data types\n",
    "2) no misisng values"
   ]
  },
  {
   "cell_type": "code",
   "execution_count": 37,
   "metadata": {
    "collapsed": true
   },
   "outputs": [],
   "source": [
    "documents_categories = pd.read_csv(path + 'documents_categories.csv.zip', compression='zip', header=0, sep=',', quotechar='\"')"
   ]
  },
  {
   "cell_type": "code",
   "execution_count": 38,
   "metadata": {},
   "outputs": [
    {
     "name": "stdout",
     "output_type": "stream",
     "text": [
      "   document_id  category_id  confidence_level\n",
      "0      1595802         1611              0.92\n",
      "1      1595802         1610              0.07\n",
      "2      1524246         1807              0.92\n",
      "3      1524246         1608              0.07\n",
      "4      1617787         1807              0.92\n",
      "         document_id  category_id  confidence_level\n",
      "5481470       777861         1902          0.118806\n",
      "5481471       599468         1902          0.257000\n",
      "5481472       599468         1914          0.002000\n",
      "5481473       774527         1914          0.117633\n",
      "5481474       774527         2006          0.117633\n",
      "(5481475, 3)\n",
      "        document_id   category_id  confidence_level\n",
      "count  5.481475e+06  5.481475e+06      5.481475e+06\n",
      "mean   1.473338e+06  1.619857e+03      3.849750e-01\n",
      "std    8.690233e+05  2.439657e+02      3.692307e-01\n",
      "min    1.000000e+00  1.000000e+03      6.826424e-04\n",
      "25%    7.282175e+05  1.407000e+03      5.728194e-02\n",
      "50%    1.456181e+06  1.611000e+03      2.659611e-01\n",
      "75%    2.223658e+06  1.808000e+03      8.108039e-01\n",
      "max    2.999334e+06  2.100000e+03      1.000000e+00\n",
      "document_id           int64\n",
      "category_id           int64\n",
      "confidence_level    float64\n",
      "dtype: object\n"
     ]
    }
   ],
   "source": [
    "print( documents_categories.head())\n",
    "print( documents_categories.tail())\n",
    "print( documents_categories.shape)\n",
    "print( documents_categories.describe())\n",
    "print( documents_categories.dtypes)"
   ]
  },
  {
   "cell_type": "code",
   "execution_count": 39,
   "metadata": {},
   "outputs": [
    {
     "name": "stdout",
     "output_type": "stream",
     "text": [
      "How many are null\n",
      "document_id         0\n",
      "category_id         0\n",
      "confidence_level    0\n",
      "dtype: int64\n",
      "\n",
      "Check Cardinality\n",
      "document_id:\t\t 2828649\n",
      "category_id:\t\t 97\n",
      "confidence_level:\t 21900\n"
     ]
    }
   ],
   "source": [
    "#Find how many null values for each column\n",
    "print(\"How many are null\")\n",
    "print(documents_categories.isnull().sum())\n",
    "print(\"\\nCheck Cardinality\")\n",
    "print( \"document_id:\\t\\t\", len(documents_categories.document_id.unique()))\n",
    "print( \"category_id:\\t\\t\",len(documents_categories.category_id.unique()))\n",
    "print( \"confidence_level:\\t\",len(documents_categories.confidence_level.unique()))"
   ]
  },
  {
   "cell_type": "code",
   "execution_count": 41,
   "metadata": {
    "collapsed": true
   },
   "outputs": [],
   "source": [
    "documents_entities = pd.read_csv(path + 'documents_entities.csv.zip', compression='zip', header=0, sep=',', quotechar='\"')"
   ]
  },
  {
   "cell_type": "code",
   "execution_count": 42,
   "metadata": {},
   "outputs": [
    {
     "name": "stdout",
     "output_type": "stream",
     "text": [
      "   document_id                         entity_id  confidence_level\n",
      "0      1524246  f9eec25663db4cd83183f5c805186f16          0.672865\n",
      "1      1524246  55ebcfbdaff1d6f60b3907151f38527a          0.399114\n",
      "2      1524246  839907a972930b17b125eb0247898412          0.392096\n",
      "3      1524246  04d8f9a1ad48f126d5806a9236872604          0.213996\n",
      "4      1617787  612a1d17685a498aff4f036c1ee02c16          0.386193\n",
      "         document_id                         entity_id  confidence_level\n",
      "5537547      1291726  346d9349f96af98c8a5092b0f6d6d952          0.297644\n",
      "5537548      1291726  ea1da4c578e07a535e410a30eb1cc44a          0.295476\n",
      "5537549      1855422  896ebce354e38fd15e1097336c97e030          0.882060\n",
      "5537550      1855422  d6cd68db952c22040956f7590da13933          0.679703\n",
      "5537551      1855422  8532f8f7668cc8db3621a305dba9e921          0.546878\n",
      "(5537552, 3)\n",
      "        document_id  confidence_level\n",
      "count  5.537552e+06      5.537552e+06\n",
      "mean   1.404345e+06      4.608689e-01\n",
      "std    8.048950e+05      2.357502e-01\n",
      "min    1.000000e+00      1.104595e-03\n",
      "25%    7.671538e+05      2.670876e-01\n",
      "50%    1.391239e+06      3.556940e-01\n",
      "75%    1.892233e+06      6.730349e-01\n",
      "max    2.999324e+06      9.988708e-01\n",
      "document_id           int64\n",
      "entity_id            object\n",
      "confidence_level    float64\n",
      "dtype: object\n"
     ]
    }
   ],
   "source": [
    "print( documents_entities.head())\n",
    "print( documents_entities.tail())\n",
    "print( documents_entities.shape)\n",
    "print( documents_entities.describe())\n",
    "print( documents_entities.dtypes)"
   ]
  },
  {
   "cell_type": "code",
   "execution_count": 43,
   "metadata": {},
   "outputs": [
    {
     "name": "stdout",
     "output_type": "stream",
     "text": [
      "How many are null\n",
      "document_id         0\n",
      "entity_id           0\n",
      "confidence_level    0\n",
      "dtype: int64\n",
      "\n",
      "Check Cardinality\n",
      "document_id:\t\t 1791420\n",
      "entity_id:\t\t 1326009\n",
      "confidence_level:\t 2678533\n"
     ]
    }
   ],
   "source": [
    "#Find how many null values for each column\n",
    "print(\"How many are null\")\n",
    "print(documents_entities.isnull().sum())\n",
    "print(\"\\nCheck Cardinality\")\n",
    "print( \"document_id:\\t\\t\", len(documents_entities.document_id.unique()))\n",
    "print( \"entity_id:\\t\\t\",len(documents_entities.entity_id.unique()))\n",
    "print( \"confidence_level:\\t\",len(documents_entities.confidence_level.unique()))"
   ]
  },
  {
   "cell_type": "code",
   "execution_count": 45,
   "metadata": {
    "collapsed": true
   },
   "outputs": [],
   "source": [
    "promoted_content = pd.read_csv(path + 'promoted_content.csv.zip', compression='zip', header=0, sep=',', quotechar='\"')"
   ]
  },
  {
   "cell_type": "code",
   "execution_count": 46,
   "metadata": {},
   "outputs": [
    {
     "name": "stdout",
     "output_type": "stream",
     "text": [
      "   ad_id  document_id  campaign_id  advertiser_id\n",
      "0      1         6614            1              7\n",
      "1      2       471467            2              7\n",
      "2      3         7692            3              7\n",
      "3      4       471471            2              7\n",
      "4      5       471472            2              7\n",
      "         ad_id  document_id  campaign_id  advertiser_id\n",
      "559578  572968      1375496        18617           3223\n",
      "559579  573016      1051466        18617           3223\n",
      "559580  573081       497486        18617           3223\n",
      "559581  573094      2868067        18906            283\n",
      "559582  573098      2790678        13933             16\n",
      "(559583, 4)\n",
      "               ad_id   document_id    campaign_id  advertiser_id\n",
      "count  559583.000000  5.595830e+05  559583.000000  559583.000000\n",
      "mean   281684.072783  1.445422e+06   17346.728637    1670.269672\n",
      "std    162819.967811  5.644029e+05   11011.407136    1131.819570\n",
      "min         1.000000  1.000000e+00       1.000000       2.000000\n",
      "25%    140624.500000  1.089350e+06    7243.000000     602.000000\n",
      "50%    281770.000000  1.402718e+06   17101.000000    1635.000000\n",
      "75%    422190.500000  1.732472e+06   27502.000000    2556.000000\n",
      "max    573098.000000  2.999286e+06   35554.000000    4532.000000\n",
      "ad_id            int64\n",
      "document_id      int64\n",
      "campaign_id      int64\n",
      "advertiser_id    int64\n",
      "dtype: object\n"
     ]
    }
   ],
   "source": [
    "print( promoted_content.head())\n",
    "print( promoted_content.tail())\n",
    "print( promoted_content.shape)\n",
    "print( promoted_content.describe())\n",
    "print( promoted_content.dtypes)"
   ]
  },
  {
   "cell_type": "code",
   "execution_count": 49,
   "metadata": {},
   "outputs": [
    {
     "name": "stdout",
     "output_type": "stream",
     "text": [
      "How many are null\n",
      "ad_id            0\n",
      "document_id      0\n",
      "campaign_id      0\n",
      "advertiser_id    0\n",
      "dtype: int64\n",
      "\n",
      "Check Cardinality\n",
      "document_id:\t 185709\n",
      "ad_id:\t\t 559583\n",
      "campaign_id:\t 34675\n",
      "advertiser_id:\t 4385\n"
     ]
    }
   ],
   "source": [
    "#Find how many null values for each column\n",
    "print(\"How many are null\")\n",
    "print( promoted_content.isnull().sum())\n",
    "print(\"\\nCheck Cardinality\")\n",
    "print( \"document_id:\\t\", len(promoted_content.document_id.unique()))\n",
    "print( \"ad_id:\\t\\t\",len(promoted_content.ad_id.unique()))\n",
    "print( \"campaign_id:\\t\",len(promoted_content.campaign_id.unique()))\n",
    "print( \"advertiser_id:\\t\",len(promoted_content.advertiser_id.unique()))"
   ]
  },
  {
   "cell_type": "code",
   "execution_count": 21,
   "metadata": {
    "collapsed": true
   },
   "outputs": [],
   "source": [
    "page_views_sample = pd.read_csv(path + 'page_views_sample.csv.zip', compression='zip', header=0, sep=',', quotechar='\"')"
   ]
  },
  {
   "cell_type": "code",
   "execution_count": 22,
   "metadata": {},
   "outputs": [
    {
     "name": "stdout",
     "output_type": "stream",
     "text": [
      "             uuid  document_id  timestamp  platform geo_location  \\\n",
      "0  1fd5f051fba643          120   31905835         1           RS   \n",
      "1  8557aa9004be3b          120   32053104         1        VN>44   \n",
      "2  c351b277a358f0          120   54013023         1        KR>12   \n",
      "3  8205775c5387f9          120   44196592         1        IN>16   \n",
      "4  9cb0ccd8458371          120   65817371         1    US>CA>807   \n",
      "\n",
      "   traffic_source  \n",
      "0               2  \n",
      "1               2  \n",
      "2               1  \n",
      "3               2  \n",
      "4               2  \n",
      "                   uuid  document_id  timestamp  platform geo_location  \\\n",
      "9999994  6d030f7faed197      1074029   18385176         1        US>AE   \n",
      "9999995  1f1455bd16472a      1074029    6769506         1    US>CA>803   \n",
      "9999996  3e0807264aac07      1074029   31216814         1        ZA>11   \n",
      "9999997  eaca8029ad3bdd      1074029   26427117         1    US>NY>502   \n",
      "9999998  66ae6786cc70a6      1074029   18387544         1        AU>02   \n",
      "\n",
      "         traffic_source  \n",
      "9999994               1  \n",
      "9999995               1  \n",
      "9999996               1  \n",
      "9999997               1  \n",
      "9999998               1  \n",
      "(9999999, 6)\n",
      "        document_id     timestamp      platform  traffic_source\n",
      "count  9.999999e+06  9.999999e+06  9.999999e+06    9.999999e+06\n",
      "mean   1.336961e+06  4.915975e+07  1.651451e+00    1.499491e+00\n",
      "std    6.391036e+05  2.215445e+07  6.408070e-01    7.633960e-01\n",
      "min    1.700000e+01  1.200000e+01  1.000000e+00    1.000000e+00\n",
      "25%    8.441090e+05  3.416043e+07  1.000000e+00    1.000000e+00\n",
      "50%    1.747993e+06  5.023340e+07  2.000000e+00    1.000000e+00\n",
      "75%    1.811567e+06  6.697787e+07  2.000000e+00    2.000000e+00\n",
      "max    1.893691e+06  8.639998e+07  3.000000e+00    3.000000e+00\n",
      "uuid              object\n",
      "document_id        int64\n",
      "timestamp          int64\n",
      "platform           int64\n",
      "geo_location      object\n",
      "traffic_source     int64\n",
      "dtype: object\n",
      "uuid                0\n",
      "document_id         0\n",
      "timestamp           0\n",
      "platform            0\n",
      "geo_location      145\n",
      "traffic_source      0\n",
      "dtype: int64\n"
     ]
    }
   ],
   "source": [
    "print( page_views_sample.head())\n",
    "print( page_views_sample.tail())\n",
    "print( page_views_sample.shape)\n",
    "print( page_views_sample.describe())\n",
    "print( page_views_sample.dtypes)\n",
    "#Find how many null values for each column\n",
    "print( page_views_sample.isnull().sum())"
   ]
  },
  {
   "cell_type": "code",
   "execution_count": 23,
   "metadata": {},
   "outputs": [
    {
     "name": "stdout",
     "output_type": "stream",
     "text": [
      "14\n",
      "9.0\n"
     ]
    }
   ],
   "source": [
    "print(page_views_sample.uuid.str.len().max())\n",
    "print(page_views_sample.geo_location.str.len().max())"
   ]
  },
  {
   "cell_type": "code",
   "execution_count": 106,
   "metadata": {
    "collapsed": true
   },
   "outputs": [],
   "source": [
    "sample_submission = pd.read_csv(path + 'sample_submission.csv.zip', compression='zip', header=0, sep=',', quotechar='\"')"
   ]
  },
  {
   "cell_type": "code",
   "execution_count": 107,
   "metadata": {},
   "outputs": [
    {
     "name": "stdout",
     "output_type": "stream",
     "text": [
      "   display_id                                              ad_id\n",
      "0    16874594           66758 150083 162754 170392 172888 180797\n",
      "1    16874595                                  8846 30609 143982\n",
      "2    16874596  11430 57197 132820 153260 173005 288385 289122...\n",
      "3    16874597  137858 143981 155945 180965 182039 285834 3057...\n",
      "4    16874598                         67292 145937 250082 335632\n",
      "         display_id                                              ad_id\n",
      "6245528    23120122  5579 54979 95103 148268 166840 281183 386922 5...\n",
      "6245529    23120123                        174045 208244 471443 516264\n",
      "6245530    23120124                         83252 162994 173403 489589\n",
      "6245531    23120125                          86281 89725 187797 254698\n",
      "6245532    23120126                         57097 145293 201649 292363\n",
      "(6245533, 2)\n",
      "         display_id\n",
      "count  6.245533e+06\n",
      "mean   1.999736e+07\n",
      "std    1.802930e+06\n",
      "min    1.687459e+07\n",
      "25%    1.843598e+07\n",
      "50%    1.999736e+07\n",
      "75%    2.155874e+07\n",
      "max    2.312013e+07\n",
      "display_id     int64\n",
      "ad_id         object\n",
      "dtype: object\n",
      "display_id    0\n",
      "ad_id         0\n",
      "dtype: int64\n"
     ]
    }
   ],
   "source": [
    "print( sample_submission.head())\n",
    "print( sample_submission.tail())\n",
    "print( sample_submission.shape)\n",
    "print( sample_submission.describe())\n",
    "print( sample_submission.dtypes)\n",
    "#Find how many null values for each column\n",
    "print( sample_submission.isnull().sum())"
   ]
  },
  {
   "cell_type": "code",
   "execution_count": 108,
   "metadata": {},
   "outputs": [
    {
     "name": "stdout",
     "output_type": "stream",
     "text": [
      "83\n"
     ]
    }
   ],
   "source": [
    "print(sample_submission.ad_id.str.len().max())"
   ]
  }
 ],
 "metadata": {
  "kernelspec": {
   "display_name": "Python 3",
   "language": "python",
   "name": "python3"
  },
  "language_info": {
   "codemirror_mode": {
    "name": "ipython",
    "version": 3
   },
   "file_extension": ".py",
   "mimetype": "text/x-python",
   "name": "python",
   "nbconvert_exporter": "python",
   "pygments_lexer": "ipython3",
   "version": "3.6.1"
  }
 },
 "nbformat": 4,
 "nbformat_minor": 2
}
