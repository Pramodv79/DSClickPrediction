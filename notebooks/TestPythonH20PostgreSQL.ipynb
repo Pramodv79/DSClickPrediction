{
 "cells": [
  {
   "cell_type": "code",
   "execution_count": 33,
   "metadata": {
    "collapsed": true
   },
   "outputs": [
    {
     "name": "stdout",
     "output_type": "stream",
     "text": [
      "Connecting to H2O server at http://192.168.1.2:54321... successful.\n"
     ]
    },
    {
     "data": {
      "text/html": [
       "<div style=\"overflow:auto\"><table style=\"width:50%\"><tr><td>H2O cluster uptime:</td>\n",
       "<td>17 secs</td></tr>\n",
       "<tr><td>H2O cluster version:</td>\n",
       "<td>3.14.0.7</td></tr>\n",
       "<tr><td>H2O cluster version age:</td>\n",
       "<td>16 days </td></tr>\n",
       "<tr><td>H2O cluster name:</td>\n",
       "<td>vapramod</td></tr>\n",
       "<tr><td>H2O cluster total nodes:</td>\n",
       "<td>1</td></tr>\n",
       "<tr><td>H2O cluster free memory:</td>\n",
       "<td>7.097 Gb</td></tr>\n",
       "<tr><td>H2O cluster total cores:</td>\n",
       "<td>4</td></tr>\n",
       "<tr><td>H2O cluster allowed cores:</td>\n",
       "<td>4</td></tr>\n",
       "<tr><td>H2O cluster status:</td>\n",
       "<td>accepting new members, healthy</td></tr>\n",
       "<tr><td>H2O connection url:</td>\n",
       "<td>http://192.168.1.2:54321</td></tr>\n",
       "<tr><td>H2O connection proxy:</td>\n",
       "<td>None</td></tr>\n",
       "<tr><td>H2O internal security:</td>\n",
       "<td>False</td></tr>\n",
       "<tr><td>H2O API Extensions:</td>\n",
       "<td>XGBoost, Algos, AutoML, Core V3, Core V4</td></tr>\n",
       "<tr><td>Python version:</td>\n",
       "<td>3.6.1 final</td></tr></table></div>"
      ],
      "text/plain": [
       "--------------------------  ----------------------------------------\n",
       "H2O cluster uptime:         17 secs\n",
       "H2O cluster version:        3.14.0.7\n",
       "H2O cluster version age:    16 days\n",
       "H2O cluster name:           vapramod\n",
       "H2O cluster total nodes:    1\n",
       "H2O cluster free memory:    7.097 Gb\n",
       "H2O cluster total cores:    4\n",
       "H2O cluster allowed cores:  4\n",
       "H2O cluster status:         accepting new members, healthy\n",
       "H2O connection url:         http://192.168.1.2:54321\n",
       "H2O connection proxy:\n",
       "H2O internal security:      False\n",
       "H2O API Extensions:         XGBoost, Algos, AutoML, Core V3, Core V4\n",
       "Python version:             3.6.1 final\n",
       "--------------------------  ----------------------------------------"
      ]
     },
     "metadata": {},
     "output_type": "display_data"
    },
    {
     "data": {
      "text/plain": [
       "<H2OConnection to http://192.168.1.2:54321, session _sid_b7fd>"
      ]
     },
     "execution_count": 33,
     "metadata": {},
     "output_type": "execute_result"
    }
   ],
   "source": [
    "import h2o\n",
    "h2o.connect( url = \"http://192.168.1.2:54321\" )"
   ]
  },
  {
   "cell_type": "code",
   "execution_count": 36,
   "metadata": {
    "collapsed": true
   },
   "outputs": [
    {
     "data": {
      "text/html": [
       "<div style=\"overflow:auto\"><table style=\"width:50%\"><tr><td>H2O cluster uptime:</td>\n",
       "<td>52 mins 04 secs</td></tr>\n",
       "<tr><td>H2O cluster version:</td>\n",
       "<td>3.14.0.7</td></tr>\n",
       "<tr><td>H2O cluster version age:</td>\n",
       "<td>16 days </td></tr>\n",
       "<tr><td>H2O cluster name:</td>\n",
       "<td>vapramod</td></tr>\n",
       "<tr><td>H2O cluster total nodes:</td>\n",
       "<td>1</td></tr>\n",
       "<tr><td>H2O cluster free memory:</td>\n",
       "<td>6.491 Gb</td></tr>\n",
       "<tr><td>H2O cluster total cores:</td>\n",
       "<td>4</td></tr>\n",
       "<tr><td>H2O cluster allowed cores:</td>\n",
       "<td>4</td></tr>\n",
       "<tr><td>H2O cluster status:</td>\n",
       "<td>locked, healthy</td></tr>\n",
       "<tr><td>H2O connection url:</td>\n",
       "<td>http://192.168.1.2:54321</td></tr>\n",
       "<tr><td>H2O connection proxy:</td>\n",
       "<td>None</td></tr>\n",
       "<tr><td>H2O internal security:</td>\n",
       "<td>False</td></tr>\n",
       "<tr><td>H2O API Extensions:</td>\n",
       "<td>XGBoost, Algos, AutoML, Core V3, Core V4</td></tr>\n",
       "<tr><td>Python version:</td>\n",
       "<td>3.6.1 final</td></tr></table></div>"
      ],
      "text/plain": [
       "--------------------------  ----------------------------------------\n",
       "H2O cluster uptime:         52 mins 04 secs\n",
       "H2O cluster version:        3.14.0.7\n",
       "H2O cluster version age:    16 days\n",
       "H2O cluster name:           vapramod\n",
       "H2O cluster total nodes:    1\n",
       "H2O cluster free memory:    6.491 Gb\n",
       "H2O cluster total cores:    4\n",
       "H2O cluster allowed cores:  4\n",
       "H2O cluster status:         locked, healthy\n",
       "H2O connection url:         http://192.168.1.2:54321\n",
       "H2O connection proxy:\n",
       "H2O internal security:      False\n",
       "H2O API Extensions:         XGBoost, Algos, AutoML, Core V3, Core V4\n",
       "Python version:             3.6.1 final\n",
       "--------------------------  ----------------------------------------"
      ]
     },
     "metadata": {},
     "output_type": "display_data"
    }
   ],
   "source": [
    "h2o.cluster().show_status()"
   ]
  },
  {
   "cell_type": "code",
   "execution_count": 34,
   "metadata": {},
   "outputs": [
    {
     "name": "stdout",
     "output_type": "stream",
     "text": [
      "Import SQL Table progress: |██████████████████████████████████████████████| 100%\n"
     ]
    },
    {
     "data": {
      "text/html": [
       "<table>\n",
       "<thead>\n",
       "<tr><th style=\"text-align: right;\">  display_id</th><th style=\"text-align: right;\">  ad_id</th><th style=\"text-align: right;\">  clicked</th><th>uuid          </th><th style=\"text-align: right;\">    document_id</th><th style=\"text-align: right;\">  timestamp</th><th style=\"text-align: right;\">  platform</th><th>geo_location  </th><th style=\"text-align: right;\">  source_id</th><th style=\"text-align: right;\">  publisher_id</th><th>publish_time       </th><th style=\"text-align: right;\">  dc_category_id_1</th><th>de_entity_id_1                  </th><th style=\"text-align: right;\">  dt_topic_id_1</th><th style=\"text-align: right;\">  ad_document_id</th><th style=\"text-align: right;\">  ad_campaign_id</th><th style=\"text-align: right;\">  ad_advertiser_id</th></tr>\n",
       "</thead>\n",
       "<tbody>\n",
       "<tr><td style=\"text-align: right;\"> 1.4768e+07 </td><td style=\"text-align: right;\">  56006</td><td style=\"text-align: right;\">        0</td><td>72d01f43999909</td><td style=\"text-align: right;\">    2.10567e+06</td><td style=\"text-align: right;\">9.80218e+08</td><td style=\"text-align: right;\">         1</td><td>US>OH>564     </td><td style=\"text-align: right;\">      11161</td><td style=\"text-align: right;\">            79</td><td>2016-06-17 16:00:00</td><td style=\"text-align: right;\">              1205</td><td>04b9b3c0a1e956957586c08f01ff41a4</td><td style=\"text-align: right;\">            236</td><td style=\"text-align: right;\">469489          </td><td style=\"text-align: right;\">            7468</td><td style=\"text-align: right;\">               901</td></tr>\n",
       "<tr><td style=\"text-align: right;\"> 1.4768e+07 </td><td style=\"text-align: right;\">  57952</td><td style=\"text-align: right;\">        0</td><td>72d01f43999909</td><td style=\"text-align: right;\">    2.10567e+06</td><td style=\"text-align: right;\">9.80218e+08</td><td style=\"text-align: right;\">         1</td><td>US>OH>564     </td><td style=\"text-align: right;\">      11161</td><td style=\"text-align: right;\">            79</td><td>2016-06-17 16:00:00</td><td style=\"text-align: right;\">              1205</td><td>04b9b3c0a1e956957586c08f01ff41a4</td><td style=\"text-align: right;\">            236</td><td style=\"text-align: right;\">977510          </td><td style=\"text-align: right;\">            6197</td><td style=\"text-align: right;\">               555</td></tr>\n",
       "<tr><td style=\"text-align: right;\"> 1.47713e+07</td><td style=\"text-align: right;\"> 140970</td><td style=\"text-align: right;\">        0</td><td>e9d7215a6912d8</td><td style=\"text-align: right;\">    2.63554e+06</td><td style=\"text-align: right;\">9.80423e+08</td><td style=\"text-align: right;\">         1</td><td>US>TX>618     </td><td style=\"text-align: right;\">       5946</td><td style=\"text-align: right;\">           320</td><td>2016-06-24 03:00:00</td><td style=\"text-align: right;\">              1903</td><td>fa2c389be1002282fbb88d7dace7f18a</td><td style=\"text-align: right;\">            184</td><td style=\"text-align: right;\">     1.31948e+06</td><td style=\"text-align: right;\">           18039</td><td style=\"text-align: right;\">              2714</td></tr>\n",
       "<tr><td style=\"text-align: right;\"> 1.47713e+07</td><td style=\"text-align: right;\"> 190084</td><td style=\"text-align: right;\">        1</td><td>e9d7215a6912d8</td><td style=\"text-align: right;\">    2.63554e+06</td><td style=\"text-align: right;\">9.80423e+08</td><td style=\"text-align: right;\">         1</td><td>US>TX>618     </td><td style=\"text-align: right;\">       5946</td><td style=\"text-align: right;\">           320</td><td>2016-06-24 03:00:00</td><td style=\"text-align: right;\">              1903</td><td>fa2c389be1002282fbb88d7dace7f18a</td><td style=\"text-align: right;\">            184</td><td style=\"text-align: right;\">     1.47504e+06</td><td style=\"text-align: right;\">           22597</td><td style=\"text-align: right;\">              2702</td></tr>\n",
       "<tr><td style=\"text-align: right;\"> 1.47713e+07</td><td style=\"text-align: right;\"> 281464</td><td style=\"text-align: right;\">        0</td><td>e9d7215a6912d8</td><td style=\"text-align: right;\">    2.63554e+06</td><td style=\"text-align: right;\">9.80423e+08</td><td style=\"text-align: right;\">         1</td><td>US>TX>618     </td><td style=\"text-align: right;\">       5946</td><td style=\"text-align: right;\">           320</td><td>2016-06-24 03:00:00</td><td style=\"text-align: right;\">              1903</td><td>fa2c389be1002282fbb88d7dace7f18a</td><td style=\"text-align: right;\">            184</td><td style=\"text-align: right;\">     1.67452e+06</td><td style=\"text-align: right;\">           17083</td><td style=\"text-align: right;\">              1510</td></tr>\n",
       "<tr><td style=\"text-align: right;\"> 1.47761e+07</td><td style=\"text-align: right;\"> 227565</td><td style=\"text-align: right;\">        0</td><td>f2901e403e99f3</td><td style=\"text-align: right;\">38775          </td><td style=\"text-align: right;\">9.80707e+08</td><td style=\"text-align: right;\">         2</td><td>PK>04         </td><td style=\"text-align: right;\">       3003</td><td style=\"text-align: right;\">            26</td><td>                   </td><td style=\"text-align: right;\">              1514</td><td>77383bae0854d68acc41ac2201f34107</td><td style=\"text-align: right;\">            182</td><td style=\"text-align: right;\">     1.39012e+06</td><td style=\"text-align: right;\">           25114</td><td style=\"text-align: right;\">               704</td></tr>\n",
       "<tr><td style=\"text-align: right;\"> 1.47871e+07</td><td style=\"text-align: right;\">  24525</td><td style=\"text-align: right;\">        0</td><td>feb1c6d7713292</td><td style=\"text-align: right;\">    2.72636e+06</td><td style=\"text-align: right;\">9.81383e+08</td><td style=\"text-align: right;\">         3</td><td>GB>V2         </td><td style=\"text-align: right;\">       2448</td><td style=\"text-align: right;\">          1045</td><td>2016-06-25 07:00:00</td><td style=\"text-align: right;\">              1408</td><td>                                </td><td style=\"text-align: right;\">            275</td><td style=\"text-align: right;\">792719          </td><td style=\"text-align: right;\">            3749</td><td style=\"text-align: right;\">              1644</td></tr>\n",
       "<tr><td style=\"text-align: right;\"> 1.47871e+07</td><td style=\"text-align: right;\"> 143347</td><td style=\"text-align: right;\">        0</td><td>feb1c6d7713292</td><td style=\"text-align: right;\">    2.72636e+06</td><td style=\"text-align: right;\">9.81383e+08</td><td style=\"text-align: right;\">         3</td><td>GB>V2         </td><td style=\"text-align: right;\">       2448</td><td style=\"text-align: right;\">          1045</td><td>2016-06-25 07:00:00</td><td style=\"text-align: right;\">              1408</td><td>                                </td><td style=\"text-align: right;\">            275</td><td style=\"text-align: right;\">     1.3321e+06 </td><td style=\"text-align: right;\">           18328</td><td style=\"text-align: right;\">              3200</td></tr>\n",
       "<tr><td style=\"text-align: right;\"> 1.47911e+07</td><td style=\"text-align: right;\">  70862</td><td style=\"text-align: right;\">        1</td><td>fec43cb8680285</td><td style=\"text-align: right;\">    2.69834e+06</td><td style=\"text-align: right;\">9.81634e+08</td><td style=\"text-align: right;\">         1</td><td>US>OR>810     </td><td style=\"text-align: right;\">       9414</td><td style=\"text-align: right;\">          1064</td><td>                   </td><td style=\"text-align: right;\">              1403</td><td>d09cc5a082b34bf898e1422e37381e4b</td><td style=\"text-align: right;\">             85</td><td style=\"text-align: right;\">872341          </td><td style=\"text-align: right;\">            8595</td><td style=\"text-align: right;\">              2004</td></tr>\n",
       "<tr><td style=\"text-align: right;\"> 1.47911e+07</td><td style=\"text-align: right;\"> 182614</td><td style=\"text-align: right;\">        0</td><td>fec43cb8680285</td><td style=\"text-align: right;\">    2.69834e+06</td><td style=\"text-align: right;\">9.81634e+08</td><td style=\"text-align: right;\">         1</td><td>US>OR>810     </td><td style=\"text-align: right;\">       9414</td><td style=\"text-align: right;\">          1064</td><td>                   </td><td style=\"text-align: right;\">              1403</td><td>d09cc5a082b34bf898e1422e37381e4b</td><td style=\"text-align: right;\">             85</td><td style=\"text-align: right;\">     1.368e+06  </td><td style=\"text-align: right;\">           19315</td><td style=\"text-align: right;\">                17</td></tr>\n",
       "</tbody>\n",
       "</table>"
      ]
     },
     "metadata": {},
     "output_type": "display_data"
    },
    {
     "data": {
      "text/plain": []
     },
     "execution_count": 34,
     "metadata": {},
     "output_type": "execute_result"
    }
   ],
   "source": [
    "connection_url = \"jdbc:postgresql://localhost:5432/vapramod\"\n",
    "#table = \"clicks_train_fact_limit\"\n",
    "table = \"clicks_train_fact_limit\"\n",
    "username = \"vapramod\"\n",
    "password = \"\"\n",
    "#Temporarily commented out as it takes long to load\n",
    "#clicks_train_fact_limit = h2o.import_sql_table(connection_url, table, username,password)\n",
    "\n",
    "clicks_train_fact_limit.head()"
   ]
  },
  {
   "cell_type": "code",
   "execution_count": 35,
   "metadata": {},
   "outputs": [
    {
     "data": {
      "text/html": [
       "<div>\n",
       "<style>\n",
       "    .dataframe thead tr:only-child th {\n",
       "        text-align: right;\n",
       "    }\n",
       "\n",
       "    .dataframe thead th {\n",
       "        text-align: left;\n",
       "    }\n",
       "\n",
       "    .dataframe tbody tr th {\n",
       "        vertical-align: top;\n",
       "    }\n",
       "</style>\n",
       "<table border=\"1\" class=\"dataframe\">\n",
       "  <thead>\n",
       "    <tr style=\"text-align: right;\">\n",
       "      <th></th>\n",
       "      <th>key</th>\n",
       "    </tr>\n",
       "  </thead>\n",
       "  <tbody>\n",
       "    <tr>\n",
       "      <th>0</th>\n",
       "      <td>clicks_train_fact_limit_sql_to_hex</td>\n",
       "    </tr>\n",
       "    <tr>\n",
       "      <th>1</th>\n",
       "      <td>py_3_sid_b7fd</td>\n",
       "    </tr>\n",
       "  </tbody>\n",
       "</table>\n",
       "</div>"
      ],
      "text/plain": [
       "                                  key\n",
       "0  clicks_train_fact_limit_sql_to_hex\n",
       "1                       py_3_sid_b7fd"
      ]
     },
     "execution_count": 35,
     "metadata": {},
     "output_type": "execute_result"
    }
   ],
   "source": [
    "h2o.ls()"
   ]
  },
  {
   "cell_type": "code",
   "execution_count": 30,
   "metadata": {},
   "outputs": [],
   "source": [
    "# ### Explicitly Shut down the cluster\n",
    "# Shut down the cluster now that we are done using it.\n",
    "h2o.cluster().shutdown()"
   ]
  }
 ],
 "metadata": {
  "kernelspec": {
   "display_name": "Python 3",
   "language": "python",
   "name": "python3"
  },
  "language_info": {
   "codemirror_mode": {
    "name": "ipython",
    "version": 3
   },
   "file_extension": ".py",
   "mimetype": "text/x-python",
   "name": "python",
   "nbconvert_exporter": "python",
   "pygments_lexer": "ipython3",
   "version": "3.6.1"
  }
 },
 "nbformat": 4,
 "nbformat_minor": 2
}
