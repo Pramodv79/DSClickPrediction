{
 "cells": [
  {
   "cell_type": "code",
   "execution_count": 7,
   "metadata": {},
   "outputs": [
    {
     "name": "stdout",
     "output_type": "stream",
     "text": [
      "Connecting to H2O server at http://192.168.1.2:54321... successful.\n"
     ]
    },
    {
     "data": {
      "text/html": [
       "<div style=\"overflow:auto\"><table style=\"width:50%\"><tr><td>H2O cluster uptime:</td>\n",
       "<td>2 mins 13 secs</td></tr>\n",
       "<tr><td>H2O cluster version:</td>\n",
       "<td>3.14.0.7</td></tr>\n",
       "<tr><td>H2O cluster version age:</td>\n",
       "<td>29 days </td></tr>\n",
       "<tr><td>H2O cluster name:</td>\n",
       "<td>vapramod</td></tr>\n",
       "<tr><td>H2O cluster total nodes:</td>\n",
       "<td>1</td></tr>\n",
       "<tr><td>H2O cluster free memory:</td>\n",
       "<td>7.097 Gb</td></tr>\n",
       "<tr><td>H2O cluster total cores:</td>\n",
       "<td>4</td></tr>\n",
       "<tr><td>H2O cluster allowed cores:</td>\n",
       "<td>4</td></tr>\n",
       "<tr><td>H2O cluster status:</td>\n",
       "<td>locked, healthy</td></tr>\n",
       "<tr><td>H2O connection url:</td>\n",
       "<td>http://192.168.1.2:54321</td></tr>\n",
       "<tr><td>H2O connection proxy:</td>\n",
       "<td>None</td></tr>\n",
       "<tr><td>H2O internal security:</td>\n",
       "<td>False</td></tr>\n",
       "<tr><td>H2O API Extensions:</td>\n",
       "<td>XGBoost, Algos, AutoML, Core V3, Core V4</td></tr>\n",
       "<tr><td>Python version:</td>\n",
       "<td>3.6.1 final</td></tr></table></div>"
      ],
      "text/plain": [
       "--------------------------  ----------------------------------------\n",
       "H2O cluster uptime:         2 mins 13 secs\n",
       "H2O cluster version:        3.14.0.7\n",
       "H2O cluster version age:    29 days\n",
       "H2O cluster name:           vapramod\n",
       "H2O cluster total nodes:    1\n",
       "H2O cluster free memory:    7.097 Gb\n",
       "H2O cluster total cores:    4\n",
       "H2O cluster allowed cores:  4\n",
       "H2O cluster status:         locked, healthy\n",
       "H2O connection url:         http://192.168.1.2:54321\n",
       "H2O connection proxy:\n",
       "H2O internal security:      False\n",
       "H2O API Extensions:         XGBoost, Algos, AutoML, Core V3, Core V4\n",
       "Python version:             3.6.1 final\n",
       "--------------------------  ----------------------------------------"
      ]
     },
     "metadata": {},
     "output_type": "display_data"
    },
    {
     "data": {
      "text/plain": [
       "<H2OConnection to http://192.168.1.2:54321, session _sid_afb1>"
      ]
     },
     "execution_count": 7,
     "metadata": {},
     "output_type": "execute_result"
    }
   ],
   "source": [
    "import h2o\n",
    "h2o.connect( url = \"http://192.168.1.2:54321\" )"
   ]
  },
  {
   "cell_type": "code",
   "execution_count": 8,
   "metadata": {},
   "outputs": [
    {
     "data": {
      "text/html": [
       "<div style=\"overflow:auto\"><table style=\"width:50%\"><tr><td>H2O cluster uptime:</td>\n",
       "<td>2 mins 16 secs</td></tr>\n",
       "<tr><td>H2O cluster version:</td>\n",
       "<td>3.14.0.7</td></tr>\n",
       "<tr><td>H2O cluster version age:</td>\n",
       "<td>29 days </td></tr>\n",
       "<tr><td>H2O cluster name:</td>\n",
       "<td>vapramod</td></tr>\n",
       "<tr><td>H2O cluster total nodes:</td>\n",
       "<td>1</td></tr>\n",
       "<tr><td>H2O cluster free memory:</td>\n",
       "<td>7.097 Gb</td></tr>\n",
       "<tr><td>H2O cluster total cores:</td>\n",
       "<td>4</td></tr>\n",
       "<tr><td>H2O cluster allowed cores:</td>\n",
       "<td>4</td></tr>\n",
       "<tr><td>H2O cluster status:</td>\n",
       "<td>locked, healthy</td></tr>\n",
       "<tr><td>H2O connection url:</td>\n",
       "<td>http://192.168.1.2:54321</td></tr>\n",
       "<tr><td>H2O connection proxy:</td>\n",
       "<td>None</td></tr>\n",
       "<tr><td>H2O internal security:</td>\n",
       "<td>False</td></tr>\n",
       "<tr><td>H2O API Extensions:</td>\n",
       "<td>XGBoost, Algos, AutoML, Core V3, Core V4</td></tr>\n",
       "<tr><td>Python version:</td>\n",
       "<td>3.6.1 final</td></tr></table></div>"
      ],
      "text/plain": [
       "--------------------------  ----------------------------------------\n",
       "H2O cluster uptime:         2 mins 16 secs\n",
       "H2O cluster version:        3.14.0.7\n",
       "H2O cluster version age:    29 days\n",
       "H2O cluster name:           vapramod\n",
       "H2O cluster total nodes:    1\n",
       "H2O cluster free memory:    7.097 Gb\n",
       "H2O cluster total cores:    4\n",
       "H2O cluster allowed cores:  4\n",
       "H2O cluster status:         locked, healthy\n",
       "H2O connection url:         http://192.168.1.2:54321\n",
       "H2O connection proxy:\n",
       "H2O internal security:      False\n",
       "H2O API Extensions:         XGBoost, Algos, AutoML, Core V3, Core V4\n",
       "Python version:             3.6.1 final\n",
       "--------------------------  ----------------------------------------"
      ]
     },
     "metadata": {},
     "output_type": "display_data"
    }
   ],
   "source": [
    "h2o.cluster().show_status()"
   ]
  },
  {
   "cell_type": "code",
   "execution_count": 9,
   "metadata": {},
   "outputs": [
    {
     "name": "stdout",
     "output_type": "stream",
     "text": [
      "Import SQL Table progress: |██████████████████████████████████████████████| 100%\n"
     ]
    },
    {
     "data": {
      "text/html": [
       "<table>\n",
       "<thead>\n",
       "<tr><th style=\"text-align: right;\">  display_id</th><th style=\"text-align: right;\">  ad_id</th><th style=\"text-align: right;\">  clicked</th><th>uuid          </th><th style=\"text-align: right;\">     document_id</th><th style=\"text-align: right;\">       timestamp</th><th style=\"text-align: right;\">  platform</th><th>geo_location  </th><th style=\"text-align: right;\">  source_id</th><th style=\"text-align: right;\">  publisher_id</th><th>publish_time       </th><th style=\"text-align: right;\">  dc_category_id_1</th><th>de_entity_id_1                  </th><th style=\"text-align: right;\">  dt_topic_id_1</th><th style=\"text-align: right;\">  ad_document_id</th><th style=\"text-align: right;\">  ad_campaign_id</th><th style=\"text-align: right;\">  ad_advertiser_id</th></tr>\n",
       "</thead>\n",
       "<tbody>\n",
       "<tr><td style=\"text-align: right;\">        3623</td><td style=\"text-align: right;\"> 139059</td><td style=\"text-align: right;\">        1</td><td>5ee2c75fd29093</td><td style=\"text-align: right;\">     1.77032e+06</td><td style=\"text-align: right;\">248632          </td><td style=\"text-align: right;\">         3</td><td>US>CA>803     </td><td style=\"text-align: right;\">         93</td><td style=\"text-align: right;\">           407</td><td>2016-06-13 21:00:00</td><td style=\"text-align: right;\">              1403</td><td>22af08e6f9600e1c5a39bacb0c6baf76</td><td style=\"text-align: right;\">             36</td><td style=\"text-align: right;\">     1.31792e+06</td><td style=\"text-align: right;\">           17510</td><td style=\"text-align: right;\">              2812</td></tr>\n",
       "<tr><td style=\"text-align: right;\">        3623</td><td style=\"text-align: right;\"> 211592</td><td style=\"text-align: right;\">        0</td><td>5ee2c75fd29093</td><td style=\"text-align: right;\">     1.77032e+06</td><td style=\"text-align: right;\">248632          </td><td style=\"text-align: right;\">         3</td><td>US>CA>803     </td><td style=\"text-align: right;\">         93</td><td style=\"text-align: right;\">           407</td><td>2016-06-13 21:00:00</td><td style=\"text-align: right;\">              1403</td><td>22af08e6f9600e1c5a39bacb0c6baf76</td><td style=\"text-align: right;\">             36</td><td style=\"text-align: right;\">     1.53545e+06</td><td style=\"text-align: right;\">           24176</td><td style=\"text-align: right;\">              2352</td></tr>\n",
       "<tr><td style=\"text-align: right;\">        4796</td><td style=\"text-align: right;\">  39018</td><td style=\"text-align: right;\">        0</td><td>310279fb5e9614</td><td style=\"text-align: right;\">     1.42353e+06</td><td style=\"text-align: right;\">327806          </td><td style=\"text-align: right;\">         1</td><td>US>AZ>789     </td><td style=\"text-align: right;\">       8610</td><td style=\"text-align: right;\">          1142</td><td>2016-07-28 07:00:00</td><td style=\"text-align: right;\">              1403</td><td>69df3b1d2c42945b6f618142d4c16437</td><td style=\"text-align: right;\">            198</td><td style=\"text-align: right;\">883556          </td><td style=\"text-align: right;\">            5048</td><td style=\"text-align: right;\">              2176</td></tr>\n",
       "<tr><td style=\"text-align: right;\">        4796</td><td style=\"text-align: right;\"> 142690</td><td style=\"text-align: right;\">        0</td><td>310279fb5e9614</td><td style=\"text-align: right;\">     1.42353e+06</td><td style=\"text-align: right;\">327806          </td><td style=\"text-align: right;\">         1</td><td>US>AZ>789     </td><td style=\"text-align: right;\">       8610</td><td style=\"text-align: right;\">          1142</td><td>2016-07-28 07:00:00</td><td style=\"text-align: right;\">              1403</td><td>69df3b1d2c42945b6f618142d4c16437</td><td style=\"text-align: right;\">            198</td><td style=\"text-align: right;\">     1.15432e+06</td><td style=\"text-align: right;\">           18088</td><td style=\"text-align: right;\">              2865</td></tr>\n",
       "<tr><td style=\"text-align: right;\">        5757</td><td style=\"text-align: right;\">  48185</td><td style=\"text-align: right;\">        0</td><td>262c3ee9749200</td><td style=\"text-align: right;\">379085          </td><td style=\"text-align: right;\">396365          </td><td style=\"text-align: right;\">         2</td><td>US>TX>618     </td><td style=\"text-align: right;\">       6482</td><td style=\"text-align: right;\">            24</td><td>                   </td><td style=\"text-align: right;\">              1808</td><td>                                </td><td style=\"text-align: right;\">            181</td><td style=\"text-align: right;\">964140          </td><td style=\"text-align: right;\">            6544</td><td style=\"text-align: right;\">              1823</td></tr>\n",
       "<tr><td style=\"text-align: right;\">        7291</td><td style=\"text-align: right;\">  84109</td><td style=\"text-align: right;\">        1</td><td>b073d9273b128f</td><td style=\"text-align: right;\">     1.7774e+06 </td><td style=\"text-align: right;\">500674          </td><td style=\"text-align: right;\">         2</td><td>US>WI>658     </td><td style=\"text-align: right;\">         31</td><td style=\"text-align: right;\">           535</td><td>2016-06-13 12:00:00</td><td style=\"text-align: right;\">              2004</td><td>0d1ef3848354b049d923d077ef7b3384</td><td style=\"text-align: right;\">            271</td><td style=\"text-align: right;\">     1.08689e+06</td><td style=\"text-align: right;\">           10957</td><td style=\"text-align: right;\">              1753</td></tr>\n",
       "<tr><td style=\"text-align: right;\">        7867</td><td style=\"text-align: right;\"> 174547</td><td style=\"text-align: right;\">        0</td><td>94ff57ed88ea81</td><td style=\"text-align: right;\">     1.3148e+06 </td><td style=\"text-align: right;\">541759          </td><td style=\"text-align: right;\">         2</td><td>US>NC>517     </td><td style=\"text-align: right;\">       7736</td><td style=\"text-align: right;\">           450</td><td>2016-04-18 22:00:00</td><td style=\"text-align: right;\">              1408</td><td>50b15161d8a146433d16004e20c90909</td><td style=\"text-align: right;\">            265</td><td style=\"text-align: right;\">     1.43984e+06</td><td style=\"text-align: right;\">           21331</td><td style=\"text-align: right;\">              2151</td></tr>\n",
       "<tr><td style=\"text-align: right;\">        8280</td><td style=\"text-align: right;\">  64255</td><td style=\"text-align: right;\">        0</td><td>3829058b4d0f8e</td><td style=\"text-align: right;\">     1.78717e+06</td><td style=\"text-align: right;\">571502          </td><td style=\"text-align: right;\">         2</td><td>US>CA>807     </td><td style=\"text-align: right;\">       3308</td><td style=\"text-align: right;\">           151</td><td>2016-06-14 04:00:00</td><td style=\"text-align: right;\">              1903</td><td>8cd240cf1bb0548d945c8273a48adf6e</td><td style=\"text-align: right;\">            184</td><td style=\"text-align: right;\">747047          </td><td style=\"text-align: right;\">            8568</td><td style=\"text-align: right;\">              1077</td></tr>\n",
       "<tr><td style=\"text-align: right;\">       14639</td><td style=\"text-align: right;\"> 129491</td><td style=\"text-align: right;\">        0</td><td>cdc8e0a14ebcd5</td><td style=\"text-align: right;\">     1.17911e+06</td><td style=\"text-align: right;\">     1.02172e+06</td><td style=\"text-align: right;\">         2</td><td>US>AZ>753     </td><td style=\"text-align: right;\">       7369</td><td style=\"text-align: right;\">           867</td><td>                   </td><td style=\"text-align: right;\">               nan</td><td>                                </td><td style=\"text-align: right;\">            nan</td><td style=\"text-align: right;\">     1.06009e+06</td><td style=\"text-align: right;\">           10790</td><td style=\"text-align: right;\">              1593</td></tr>\n",
       "<tr><td style=\"text-align: right;\">       17484</td><td style=\"text-align: right;\"> 180923</td><td style=\"text-align: right;\">        0</td><td>99ee69fedd46bd</td><td style=\"text-align: right;\">     1.75148e+06</td><td style=\"text-align: right;\">     1.23305e+06</td><td style=\"text-align: right;\">         1</td><td>US>WA>819     </td><td style=\"text-align: right;\">       4494</td><td style=\"text-align: right;\">           320</td><td>2016-06-13 10:00:00</td><td style=\"text-align: right;\">              1907</td><td>7ad2a163e043646196baad62a9d58686</td><td style=\"text-align: right;\">            184</td><td style=\"text-align: right;\">     1.15103e+06</td><td style=\"text-align: right;\">             674</td><td style=\"text-align: right;\">               769</td></tr>\n",
       "</tbody>\n",
       "</table>"
      ]
     },
     "metadata": {},
     "output_type": "display_data"
    },
    {
     "data": {
      "text/plain": []
     },
     "execution_count": 9,
     "metadata": {},
     "output_type": "execute_result"
    }
   ],
   "source": [
    "connection_url = \"jdbc:postgresql://localhost:5432/vapramod\"\n",
    "\n",
    "table = \"clicks_train_fact_limit\"\n",
    "#table = \"clicks_train_fact_10m\"\n",
    "username = \"vapramod\"\n",
    "password = \"\"\n",
    "#Temporarily commented out as it takes long to load\n",
    "clicks_train_fact_limit = h2o.import_sql_table(connection_url, table, username,password)\n",
    "\n",
    "clicks_train_fact_limit.head()"
   ]
  },
  {
   "cell_type": "code",
   "execution_count": 10,
   "metadata": {},
   "outputs": [
    {
     "data": {
      "text/html": [
       "<div>\n",
       "<style>\n",
       "    .dataframe thead tr:only-child th {\n",
       "        text-align: right;\n",
       "    }\n",
       "\n",
       "    .dataframe thead th {\n",
       "        text-align: left;\n",
       "    }\n",
       "\n",
       "    .dataframe tbody tr th {\n",
       "        vertical-align: top;\n",
       "    }\n",
       "</style>\n",
       "<table border=\"1\" class=\"dataframe\">\n",
       "  <thead>\n",
       "    <tr style=\"text-align: right;\">\n",
       "      <th></th>\n",
       "      <th>key</th>\n",
       "    </tr>\n",
       "  </thead>\n",
       "  <tbody>\n",
       "    <tr>\n",
       "      <th>0</th>\n",
       "      <td>clicks_train_fact_limit_sql_to_hex</td>\n",
       "    </tr>\n",
       "    <tr>\n",
       "      <th>1</th>\n",
       "      <td>py_2_sid_afb1</td>\n",
       "    </tr>\n",
       "  </tbody>\n",
       "</table>\n",
       "</div>"
      ],
      "text/plain": [
       "                                  key\n",
       "0  clicks_train_fact_limit_sql_to_hex\n",
       "1                       py_2_sid_afb1"
      ]
     },
     "execution_count": 10,
     "metadata": {},
     "output_type": "execute_result"
    }
   ],
   "source": [
    "h2o.ls()"
   ]
  },
  {
   "cell_type": "code",
   "execution_count": 39,
   "metadata": {},
   "outputs": [
    {
     "name": "stdout",
     "output_type": "stream",
     "text": [
      "Import SQL Table progress: |██████████ (cancelled)\n"
     ]
    },
    {
     "ename": "H2OJobCancelled",
     "evalue": "Job<$0301c0a8010232d4ffffffff$_88ceb616a339da2833416514acf34e78> was cancelled by the user.",
     "output_type": "error",
     "traceback": [
      "\u001b[0;31m---------------------------------------------------------------------------\u001b[0m",
      "\u001b[0;31mH2OJobCancelled\u001b[0m                           Traceback (most recent call last)",
      "\u001b[0;32m<ipython-input-39-104771aded13>\u001b[0m in \u001b[0;36m<module>\u001b[0;34m()\u001b[0m\n\u001b[1;32m      5\u001b[0m \u001b[0mpassword\u001b[0m \u001b[0;34m=\u001b[0m \u001b[0;34m\"\"\u001b[0m\u001b[0;34m\u001b[0m\u001b[0m\n\u001b[1;32m      6\u001b[0m \u001b[0;31m#Temporarily commented out as it takes long to load\u001b[0m\u001b[0;34m\u001b[0m\u001b[0;34m\u001b[0m\u001b[0m\n\u001b[0;32m----> 7\u001b[0;31m \u001b[0mclicks_test\u001b[0m \u001b[0;34m=\u001b[0m \u001b[0mh2o\u001b[0m\u001b[0;34m.\u001b[0m\u001b[0mimport_sql_table\u001b[0m\u001b[0;34m(\u001b[0m\u001b[0mconnection_url\u001b[0m\u001b[0;34m,\u001b[0m \u001b[0mtable\u001b[0m\u001b[0;34m,\u001b[0m \u001b[0musername\u001b[0m\u001b[0;34m,\u001b[0m\u001b[0mpassword\u001b[0m\u001b[0;34m)\u001b[0m\u001b[0;34m\u001b[0m\u001b[0m\n\u001b[0m\u001b[1;32m      8\u001b[0m \u001b[0;34m\u001b[0m\u001b[0m\n\u001b[1;32m      9\u001b[0m \u001b[0mclicks_test\u001b[0m\u001b[0;34m.\u001b[0m\u001b[0mhead\u001b[0m\u001b[0;34m(\u001b[0m\u001b[0;34m)\u001b[0m\u001b[0;34m\u001b[0m\u001b[0m\n",
      "\u001b[0;32m/Applications/anaconda/lib/python3.6/site-packages/h2o/h2o.py\u001b[0m in \u001b[0;36mimport_sql_table\u001b[0;34m(connection_url, table, username, password, columns, optimize)\u001b[0m\n\u001b[1;32m    455\u001b[0m     \u001b[0;32mif\u001b[0m \u001b[0mcolumns\u001b[0m\u001b[0;34m:\u001b[0m\u001b[0;34m\u001b[0m\u001b[0m\n\u001b[1;32m    456\u001b[0m         \u001b[0mp\u001b[0m\u001b[0;34m[\u001b[0m\u001b[0;34m\"columns\"\u001b[0m\u001b[0;34m]\u001b[0m \u001b[0;34m=\u001b[0m \u001b[0;34m\", \"\u001b[0m\u001b[0;34m.\u001b[0m\u001b[0mjoin\u001b[0m\u001b[0;34m(\u001b[0m\u001b[0mcolumns\u001b[0m\u001b[0;34m)\u001b[0m\u001b[0;34m\u001b[0m\u001b[0m\n\u001b[0;32m--> 457\u001b[0;31m     \u001b[0mj\u001b[0m \u001b[0;34m=\u001b[0m \u001b[0mH2OJob\u001b[0m\u001b[0;34m(\u001b[0m\u001b[0mapi\u001b[0m\u001b[0;34m(\u001b[0m\u001b[0;34m\"POST /99/ImportSQLTable\"\u001b[0m\u001b[0;34m,\u001b[0m \u001b[0mdata\u001b[0m\u001b[0;34m=\u001b[0m\u001b[0mp\u001b[0m\u001b[0;34m)\u001b[0m\u001b[0;34m,\u001b[0m \u001b[0;34m\"Import SQL Table\"\u001b[0m\u001b[0;34m)\u001b[0m\u001b[0;34m.\u001b[0m\u001b[0mpoll\u001b[0m\u001b[0;34m(\u001b[0m\u001b[0;34m)\u001b[0m\u001b[0;34m\u001b[0m\u001b[0m\n\u001b[0m\u001b[1;32m    458\u001b[0m     \u001b[0;32mreturn\u001b[0m \u001b[0mget_frame\u001b[0m\u001b[0;34m(\u001b[0m\u001b[0mj\u001b[0m\u001b[0;34m.\u001b[0m\u001b[0mdest_key\u001b[0m\u001b[0;34m)\u001b[0m\u001b[0;34m\u001b[0m\u001b[0m\n\u001b[1;32m    459\u001b[0m \u001b[0;34m\u001b[0m\u001b[0m\n",
      "\u001b[0;32m/Applications/anaconda/lib/python3.6/site-packages/h2o/job.py\u001b[0m in \u001b[0;36mpoll\u001b[0;34m(self, verbose_model_scoring_history)\u001b[0m\n\u001b[1;32m     71\u001b[0m         \u001b[0;31m# check if failed... and politely print relevant message\u001b[0m\u001b[0;34m\u001b[0m\u001b[0;34m\u001b[0m\u001b[0m\n\u001b[1;32m     72\u001b[0m         \u001b[0;32mif\u001b[0m \u001b[0mself\u001b[0m\u001b[0;34m.\u001b[0m\u001b[0mstatus\u001b[0m \u001b[0;34m==\u001b[0m \u001b[0;34m\"CANCELLED\"\u001b[0m\u001b[0;34m:\u001b[0m\u001b[0;34m\u001b[0m\u001b[0m\n\u001b[0;32m---> 73\u001b[0;31m             \u001b[0;32mraise\u001b[0m \u001b[0mH2OJobCancelled\u001b[0m\u001b[0;34m(\u001b[0m\u001b[0;34m\"Job<%s> was cancelled by the user.\"\u001b[0m \u001b[0;34m%\u001b[0m \u001b[0mself\u001b[0m\u001b[0;34m.\u001b[0m\u001b[0mjob_key\u001b[0m\u001b[0;34m)\u001b[0m\u001b[0;34m\u001b[0m\u001b[0m\n\u001b[0m\u001b[1;32m     74\u001b[0m         \u001b[0;32mif\u001b[0m \u001b[0mself\u001b[0m\u001b[0;34m.\u001b[0m\u001b[0mstatus\u001b[0m \u001b[0;34m==\u001b[0m \u001b[0;34m\"FAILED\"\u001b[0m\u001b[0;34m:\u001b[0m\u001b[0;34m\u001b[0m\u001b[0m\n\u001b[1;32m     75\u001b[0m             \u001b[0;32mif\u001b[0m \u001b[0;34m(\u001b[0m\u001b[0misinstance\u001b[0m\u001b[0;34m(\u001b[0m\u001b[0mself\u001b[0m\u001b[0;34m.\u001b[0m\u001b[0mjob\u001b[0m\u001b[0;34m,\u001b[0m \u001b[0mdict\u001b[0m\u001b[0;34m)\u001b[0m\u001b[0;34m)\u001b[0m \u001b[0;32mand\u001b[0m \u001b[0;34m(\u001b[0m\u001b[0;34m\"stacktrace\"\u001b[0m \u001b[0;32min\u001b[0m \u001b[0mlist\u001b[0m\u001b[0;34m(\u001b[0m\u001b[0mself\u001b[0m\u001b[0;34m.\u001b[0m\u001b[0mjob\u001b[0m\u001b[0;34m)\u001b[0m\u001b[0;34m)\u001b[0m\u001b[0;34m:\u001b[0m\u001b[0;34m\u001b[0m\u001b[0m\n",
      "\u001b[0;31mH2OJobCancelled\u001b[0m: Job<$0301c0a8010232d4ffffffff$_88ceb616a339da2833416514acf34e78> was cancelled by the user."
     ]
    }
   ],
   "source": [
    "connection_url = \"jdbc:postgresql://localhost:5432/vapramod\"\n",
    "\n",
    "table = \"clicks_test_fact\"\n",
    "username = \"vapramod\"\n",
    "password = \"\"\n",
    "#Temporarily commented out as it takes long to load\n",
    "##clicks_test_fact = h2o.import_sql_table(connection_url, table, username,password)\n",
    "\n",
    "clicks_test_fact.head()"
   ]
  },
  {
   "cell_type": "code",
   "execution_count": null,
   "metadata": {
    "collapsed": true
   },
   "outputs": [],
   "source": [
    "#Remove data frames from H2O memory\n",
    "#h2o.remove(fr)"
   ]
  },
  {
   "cell_type": "code",
   "execution_count": 30,
   "metadata": {
    "collapsed": true
   },
   "outputs": [],
   "source": [
    "# ### Explicitly Shut down the cluster\n",
    "# Shut down the cluster now that we are done using it.\n",
    "#h2o.cluster().shutdown()"
   ]
  }
 ],
 "metadata": {
  "kernelspec": {
   "display_name": "Python 3",
   "language": "python",
   "name": "python3"
  },
  "language_info": {
   "codemirror_mode": {
    "name": "ipython",
    "version": 3
   },
   "file_extension": ".py",
   "mimetype": "text/x-python",
   "name": "python",
   "nbconvert_exporter": "python",
   "pygments_lexer": "ipython3",
   "version": "3.6.1"
  }
 },
 "nbformat": 4,
 "nbformat_minor": 2
}
