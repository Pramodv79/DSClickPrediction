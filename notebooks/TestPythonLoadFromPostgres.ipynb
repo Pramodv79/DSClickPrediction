{
 "cells": [
  {
   "cell_type": "markdown",
   "metadata": {},
   "source": [
    "**Connect to PostgreSQL database to read the FACT table**\n",
    "clicks_train_fact_limit contains first 10M of rows"
   ]
  },
  {
   "cell_type": "code",
   "execution_count": 1,
   "metadata": {
    "collapsed": true
   },
   "outputs": [],
   "source": [
    "from sqlalchemy import create_engine\n",
    "import pandas as pd\n",
    "engine = create_engine('postgresql://localhost:5432/vapramod')\n"
   ]
  },
  {
   "cell_type": "code",
   "execution_count": 2,
   "metadata": {
    "collapsed": true
   },
   "outputs": [],
   "source": [
    "clicks_train_fact_limit = pd.read_sql_query('SELECT * FROM clicks_train;', engine)"
   ]
  },
  {
   "cell_type": "code",
   "execution_count": 4,
   "metadata": {},
   "outputs": [
    {
     "name": "stdout",
     "output_type": "stream",
     "text": [
      "<class 'pandas.core.frame.DataFrame'>\n",
      "RangeIndex: 1000000 entries, 0 to 999999\n",
      "Data columns (total 17 columns):\n",
      "display_id          1000000 non-null int64\n",
      "ad_id               1000000 non-null int64\n",
      "clicked             1000000 non-null int64\n",
      "uuid                1000000 non-null object\n",
      "document_id         1000000 non-null int64\n",
      "timestamp           1000000 non-null int64\n",
      "platform            1000000 non-null object\n",
      "geo_location        999992 non-null object\n",
      "source_id           999984 non-null float64\n",
      "publisher_id        999984 non-null float64\n",
      "publish_time        859504 non-null object\n",
      "dc_category_id_1    954857 non-null float64\n",
      "de_entity_id_1      570513 non-null object\n",
      "dt_topic_id_1       902166 non-null float64\n",
      "ad_document_id      1000000 non-null int64\n",
      "ad_campaign_id      1000000 non-null int64\n",
      "ad_advertiser_id    1000000 non-null int64\n",
      "dtypes: float64(4), int64(8), object(5)\n",
      "memory usage: 129.7+ MB\n"
     ]
    }
   ],
   "source": [
    "clicks_train_fact_limit.shape\n",
    "clicks_train_fact_limit.info()"
   ]
  }
 ],
 "metadata": {
  "kernelspec": {
   "display_name": "Python 3",
   "language": "python",
   "name": "python3"
  },
  "language_info": {
   "codemirror_mode": {
    "name": "ipython",
    "version": 3
   },
   "file_extension": ".py",
   "mimetype": "text/x-python",
   "name": "python",
   "nbconvert_exporter": "python",
   "pygments_lexer": "ipython3",
   "version": "3.6.1"
  }
 },
 "nbformat": 4,
 "nbformat_minor": 2
}
